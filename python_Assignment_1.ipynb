{
 "cells": [
  {
   "cell_type": "markdown",
   "id": "550619cc-ee8d-4b52-8e69-649ae73b17c1",
   "metadata": {},
   "source": [
    "## Assignment 1\n"
   ]
  },
  {
   "cell_type": "markdown",
   "id": "8ebea9e2-57ab-4d37-b7c8-5f4408207f5c",
   "metadata": {},
   "source": [
    "#### qest 1 \n",
    "- String = 'hello'\n",
    "- Integers = 6\n",
    "- operators = -, +, *, /\n",
    "- float = -87.8"
   ]
  },
  {
   "cell_type": "markdown",
   "id": "10392a44-8e52-4605-a8fb-9c0707d43e6e",
   "metadata": {},
   "source": [
    "#### ques 2\n",
    "-  String - String is a class and a data type uit is used to represent text type data..e  can be assign to a variable\n",
    "- variable - variable is any alphabet or group of alphabet and numbers which work as temporary storage locations             , a variable is used to represent any infromation.\n",
    " "
   ]
  },
  {
   "cell_type": "markdown",
   "id": "b916c24c-ba4f-489f-bc60-e25b1dadcd5f",
   "metadata": {},
   "source": [
    "#### ques 3\n",
    "##### 3 Data Types\n",
    "- String = A string data type consists of one or more characters, which can include letters, numbers, and other            types of characters, it can be represented by either single quote('') or double quotes(\"\") . ex-                \"hello\", \"@#\",'87 '\n",
    "- Integer = An integer data type represents some range of mathematical integers.It stores whole numbers that                 range from -2,147,483,647 to 2,147,483,647\n",
    "- Boolean = The Boolean data type can only represent two values: true or false. Typically, a 1 is used to                   represent True, and a 0 is used to represent False."
   ]
  },
  {
   "cell_type": "markdown",
   "id": "3db729c3-718e-45db-93d4-22be3ce5079e",
   "metadata": {
    "jp-MarkdownHeadingCollapsed": true,
    "tags": []
   },
   "source": [
    "#### ques 4\n",
    "- Expression = An expression is a combination made up of values,variables and operators which evaluate to a                single value  it is used to perform mathematical operations ex- 2*3 return 6."
   ]
  },
  {
   "cell_type": "markdown",
   "id": "4b3c5d0e-d680-485e-aaa9-911f9e211211",
   "metadata": {},
   "source": [
    "#### ques 5\n",
    "- Statement = Statement is an instruction that python interpreter can execute (Anything we write in python                     script is a statement), it is of 4 types print,assignment,condition,loop. ex- a = 9 (assignment)\n",
    "- expression = An expression is a construct made up of values,variables and operators. "
   ]
  },
  {
   "cell_type": "markdown",
   "id": "afda5e2b-8818-4789-9cba-69338d7c3f67",
   "metadata": {},
   "source": [
    "#### ques 6\n",
    "\n",
    "bacon = 22\n",
    "bacon + 1\n",
    "it will return 23 in the console\n"
   ]
  },
  {
   "cell_type": "code",
   "execution_count": 1,
   "id": "a3fb5083-360c-4619-8fff-234889fb7941",
   "metadata": {},
   "outputs": [
    {
     "data": {
      "text/plain": [
       "23"
      ]
     },
     "execution_count": 1,
     "metadata": {},
     "output_type": "execute_result"
    }
   ],
   "source": [
    "bacon = 22\n",
    "bacon+1"
   ]
  },
  {
   "cell_type": "markdown",
   "id": "66ffc52e-c7b1-46b6-9c90-2a2d205ede0b",
   "metadata": {},
   "source": [
    "#### ques 7\n",
    "\n",
    "- 'spamspam'+'spam = 'spamspamspam'\n",
    "- 'spam'*3 = 'spamspamspam'"
   ]
  },
  {
   "cell_type": "code",
   "execution_count": 2,
   "id": "88763817-d753-439a-bc70-8582291f3a77",
   "metadata": {},
   "outputs": [
    {
     "data": {
      "text/plain": [
       "'spamspamspam'"
      ]
     },
     "execution_count": 2,
     "metadata": {},
     "output_type": "execute_result"
    }
   ],
   "source": [
    "'spam'+'spamspam'"
   ]
  },
  {
   "cell_type": "code",
   "execution_count": 3,
   "id": "897a24a3-d07f-4911-9e67-8243a3075ac5",
   "metadata": {},
   "outputs": [
    {
     "data": {
      "text/plain": [
       "'spamspamspam'"
      ]
     },
     "execution_count": 3,
     "metadata": {},
     "output_type": "execute_result"
    }
   ],
   "source": [
    "'spam'*3"
   ]
  },
  {
   "cell_type": "markdown",
   "id": "d95e5f3e-cfbb-4b2c-a643-19bab6fac682",
   "metadata": {},
   "source": [
    "#### ques 8\n",
    "\n",
    "- According to the python naming convention rule we should follow the following rules to create a variable\n",
    "- - A variable name must start with a letter or the underscore character.\n",
    "  - A variable name cannot start with a number.\n",
    "  - A variable name can only contain alpha-numeric characters and underscores (A-z, 0-9, and _ )\n",
    "  - Variable names are case-sensitive (age, Age and AGE are three different variables)\n",
    "\n",
    "**In our question variable name 100 is violating the rule that varible cannot start with an integer or a number**\n"
   ]
  },
  {
   "cell_type": "markdown",
   "id": "96193864-d9a4-455c-afde-b424a51bcda3",
   "metadata": {},
   "source": [
    "#### ques 9\n",
    "\n",
    "**int(),float(), str()** are the 3 functions can be used to get the integer, floating-point number, or string\n",
    "version of a value."
   ]
  },
  {
   "cell_type": "markdown",
   "id": "9d96e838-ea3f-4982-a864-8ea72ea2b375",
   "metadata": {},
   "source": [
    "#### ques 10\n",
    "\n",
    "**&#39;I have eaten &#39; + 99 + &#39; burritos.&#39;** the expression cause an error because we cannot concatinate one data type to another data type, the type of the data should be same to perform concat operatoin "
   ]
  },
  {
   "cell_type": "code",
   "execution_count": 4,
   "id": "1499da3c-b301-4ed2-9be3-e13c445632ea",
   "metadata": {},
   "outputs": [
    {
     "ename": "TypeError",
     "evalue": "can only concatenate str (not \"int\") to str",
     "output_type": "error",
     "traceback": [
      "\u001b[0;31m---------------------------------------------------------------------------\u001b[0m",
      "\u001b[0;31mTypeError\u001b[0m                                 Traceback (most recent call last)",
      "Input \u001b[0;32mIn [4]\u001b[0m, in \u001b[0;36m<cell line: 1>\u001b[0;34m()\u001b[0m\n\u001b[0;32m----> 1\u001b[0m \u001b[38;5;124;43m'\u001b[39;49m\u001b[38;5;124;43mI have eaten\u001b[39;49m\u001b[38;5;124;43m'\u001b[39;49m\u001b[38;5;241;43m+\u001b[39;49m\u001b[43m \u001b[49m\u001b[38;5;241;43m99\u001b[39;49m \u001b[38;5;241m+\u001b[39m\u001b[38;5;124m'\u001b[39m\u001b[38;5;124mburritos\u001b[39m\u001b[38;5;124m'\u001b[39m\n",
      "\u001b[0;31mTypeError\u001b[0m: can only concatenate str (not \"int\") to str"
     ]
    }
   ],
   "source": [
    "'I have eaten'+ 99 +'burritos'"
   ]
  },
  {
   "cell_type": "code",
   "execution_count": 6,
   "id": "fb74bdb9-a0ed-4916-b8d0-7dcdaca79b50",
   "metadata": {},
   "outputs": [
    {
     "data": {
      "text/plain": [
       "'I have eaten 99 burritos'"
      ]
     },
     "execution_count": 6,
     "metadata": {},
     "output_type": "execute_result"
    }
   ],
   "source": [
    "'I have eaten'+ ' 99 ' +'burritos'"
   ]
  },
  {
   "cell_type": "code",
   "execution_count": null,
   "id": "d7ff7843-0422-4acd-8992-67525ba56b80",
   "metadata": {},
   "outputs": [],
   "source": []
  }
 ],
 "metadata": {
  "kernelspec": {
   "display_name": "Python 3 (ipykernel)",
   "language": "python",
   "name": "python3"
  },
  "language_info": {
   "codemirror_mode": {
    "name": "ipython",
    "version": 3
   },
   "file_extension": ".py",
   "mimetype": "text/x-python",
   "name": "python",
   "nbconvert_exporter": "python",
   "pygments_lexer": "ipython3",
   "version": "3.9.12"
  }
 },
 "nbformat": 4,
 "nbformat_minor": 5
}
